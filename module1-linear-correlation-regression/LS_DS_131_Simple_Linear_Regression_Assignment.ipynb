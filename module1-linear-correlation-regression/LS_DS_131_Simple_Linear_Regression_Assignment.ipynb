{
  "nbformat": 4,
  "nbformat_minor": 0,
  "metadata": {
    "colab": {
      "name": "LS_DS_131_Simple_Linear_Regression_Assignment.ipynb",
      "provenance": [],
      "collapsed_sections": []
    },
    "kernelspec": {
      "name": "python3",
      "display_name": "Python 3"
    }
  },
  "cells": [
    {
      "cell_type": "markdown",
      "metadata": {
        "id": "RQw2GTc8oDRw"
      },
      "source": [
        "Unit 1, Sprint 2, Module 1\n",
        "\n",
        "###Learning Objectives:\n",
        "- Student can create a scatterplot\n",
        "- Student can identify the independent and dependent variables in a relationship (also known as features and target, and explanatory and response variables)\n",
        "- Student can identify linear and nonlinear relationships from a scatterplot\n",
        "- Student can calculate and interpret linear correlation\n",
        "- Student can calculate and interpret the slope and intercept of a simple linear regression model\n",
        "- Sudent can predict a response from a simple linear regression model\n",
        "- Student can calculate and interpret a residual"
      ]
    },
    {
      "cell_type": "markdown",
      "metadata": {
        "id": "uhmdnOzupL1N"
      },
      "source": [
        "#Use the following information to answer the questions in the assignment:\n",
        "\n"
      ]
    },
    {
      "cell_type": "markdown",
      "metadata": {
        "id": "MHWnltybtm8_"
      },
      "source": [
        "###Is head size related to brain weight in healthy adult humans?\n",
        "\n",
        "The Brainhead.csv dataset provides information on 237 individuals who were subject to post-mortem examination at the Middlesex Hospital in London around the turn of the 20th century. Study authors used cadavers to see if a relationship between brain weight and other more easily measured physiological characterizes such as age, sex, and head size could be determined. The end goal was to develop a way to estimate a person’s brain size while they were still alive (as the living aren’t keen on having their brains taken out and weighed). "
      ]
    },
    {
      "cell_type": "markdown",
      "metadata": {
        "id": "lM5t4Yajp8mH"
      },
      "source": [
        "**We wish to determine if there is a linear relationship between head size and brain weight in healthy human adults.**\n",
        "\n",
        "Source: R.J. Gladstone (1905). \"A Study of the Relations of the Brain to the Size of the Head\", Biometrika, Vol. 4, pp105-123."
      ]
    },
    {
      "cell_type": "code",
      "metadata": {
        "id": "sJegaDmRn0a6",
        "outputId": "9eb36a0f-2706-41f9-9cea-3bc51ad1fb97",
        "colab": {
          "base_uri": "https://localhost:8080/",
          "height": 206
        }
      },
      "source": [
        "#Import the Brainhead.csv dataset from a URL and print the first few rows\n",
        "\n",
        "import pandas as pd\n",
        "import numpy as np\n",
        "\n",
        "\n",
        "data_url = 'https://raw.githubusercontent.com/LambdaSchool/data-science-practice-datasets/main/unit_1/Brainhead/Brainhead.csv'\n",
        "\n",
        "df = pd.read_csv(data_url, skipinitialspace=True, header=0)\n",
        "\n",
        "df.head()"
      ],
      "execution_count": 1,
      "outputs": [
        {
          "output_type": "execute_result",
          "data": {
            "text/html": [
              "<div>\n",
              "<style scoped>\n",
              "    .dataframe tbody tr th:only-of-type {\n",
              "        vertical-align: middle;\n",
              "    }\n",
              "\n",
              "    .dataframe tbody tr th {\n",
              "        vertical-align: top;\n",
              "    }\n",
              "\n",
              "    .dataframe thead th {\n",
              "        text-align: right;\n",
              "    }\n",
              "</style>\n",
              "<table border=\"1\" class=\"dataframe\">\n",
              "  <thead>\n",
              "    <tr style=\"text-align: right;\">\n",
              "      <th></th>\n",
              "      <th>Gender</th>\n",
              "      <th>Age</th>\n",
              "      <th>Head</th>\n",
              "      <th>Brain</th>\n",
              "    </tr>\n",
              "  </thead>\n",
              "  <tbody>\n",
              "    <tr>\n",
              "      <th>0</th>\n",
              "      <td>1</td>\n",
              "      <td>1</td>\n",
              "      <td>4512</td>\n",
              "      <td>1530</td>\n",
              "    </tr>\n",
              "    <tr>\n",
              "      <th>1</th>\n",
              "      <td>1</td>\n",
              "      <td>1</td>\n",
              "      <td>3738</td>\n",
              "      <td>1297</td>\n",
              "    </tr>\n",
              "    <tr>\n",
              "      <th>2</th>\n",
              "      <td>1</td>\n",
              "      <td>1</td>\n",
              "      <td>4261</td>\n",
              "      <td>1335</td>\n",
              "    </tr>\n",
              "    <tr>\n",
              "      <th>3</th>\n",
              "      <td>1</td>\n",
              "      <td>1</td>\n",
              "      <td>3777</td>\n",
              "      <td>1282</td>\n",
              "    </tr>\n",
              "    <tr>\n",
              "      <th>4</th>\n",
              "      <td>1</td>\n",
              "      <td>1</td>\n",
              "      <td>4177</td>\n",
              "      <td>1590</td>\n",
              "    </tr>\n",
              "  </tbody>\n",
              "</table>\n",
              "</div>"
            ],
            "text/plain": [
              "   Gender  Age  Head  Brain\n",
              "0       1    1  4512   1530\n",
              "1       1    1  3738   1297\n",
              "2       1    1  4261   1335\n",
              "3       1    1  3777   1282\n",
              "4       1    1  4177   1590"
            ]
          },
          "metadata": {
            "tags": []
          },
          "execution_count": 1
        }
      ]
    },
    {
      "cell_type": "markdown",
      "metadata": {
        "id": "UygPGJ5Iq4zZ"
      },
      "source": [
        "The two variables we are interested in - for now - are \n",
        "\n",
        "- Brain, the brain weight in kg\n",
        "- Head, the head size in cubic cm"
      ]
    },
    {
      "cell_type": "markdown",
      "metadata": {
        "id": "q5ese6fvrSBQ"
      },
      "source": [
        "1) If we wish to predict brain weight from head size, which variable is the independent variable (also called the feature, explanatory or x variable) and which variable is the dependent variable (also called the target, response or y variable)?"
      ]
    },
    {
      "cell_type": "markdown",
      "metadata": {
        "id": "n2D0DmCwru_g"
      },
      "source": [
        " \n",
        "> Feature would be headsize and target would be the brain weight. They would be independent and dependent variables respectively."
      ]
    },
    {
      "cell_type": "markdown",
      "metadata": {
        "id": "p-dC58hMvRYt"
      },
      "source": [
        "2) Draw a scatterplot showing the relationship between brain weight and head size.  Make sure to graph the correct variable on the correct axis and label your graph."
      ]
    },
    {
      "cell_type": "code",
      "metadata": {
        "id": "sVZOz0j8xLb4"
      },
      "source": [
        "import matplotlib.pyplot as plt"
      ],
      "execution_count": 9,
      "outputs": []
    },
    {
      "cell_type": "code",
      "metadata": {
        "id": "Pynze8awFqIz",
        "outputId": "65f694c2-0ddf-44d9-df71-9f383c9f7998",
        "colab": {
          "base_uri": "https://localhost:8080/",
          "height": 361
        }
      },
      "source": [
        "plt.style.use('seaborn')\n",
        "fig, ax = plt.subplots()\n",
        "\n",
        "ax.scatter(df['Head'], df['Brain'])\n",
        "ax.set_xlabel('Head size')\n",
        "ax.set_ylabel('Brain weight')\n",
        "plt.show()"
      ],
      "execution_count": 12,
      "outputs": [
        {
          "output_type": "display_data",
          "data": {
            "image/png": "[encoded data removed]",
            "text/plain": [
              "<Figure size 576x396 with 1 Axes>"
            ]
          },
          "metadata": {
            "tags": []
          }
        }
      ]
    },
    {
      "cell_type": "markdown",
      "metadata": {
        "id": "4eJsXuRLxKrz"
      },
      "source": [
        "3) Describe the strength and direction of the relationship between head size and brain weight."
      ]
    },
    {
      "cell_type": "markdown",
      "metadata": {
        "id": "9VLKDiESxJSR"
      },
      "source": [
        "\n",
        "> There is positive correlation between head size and brain weight. "
      ]
    },
    {
      "cell_type": "markdown",
      "metadata": {
        "id": "q9zVxcOPwU4Z"
      },
      "source": [
        "4) Determine if there is any missing data in the dataset."
      ]
    },
    {
      "cell_type": "code",
      "metadata": {
        "id": "jagDF8wF0aaZ",
        "outputId": "efbfc1cb-4624-452c-c3d6-d261722c1df1",
        "colab": {
          "base_uri": "https://localhost:8080/",
          "height": 109
        }
      },
      "source": [
        "df.isnull().sum()"
      ],
      "execution_count": 13,
      "outputs": [
        {
          "output_type": "execute_result",
          "data": {
            "text/plain": [
              "Gender    0\n",
              "Age       0\n",
              "Head      0\n",
              "Brain     0\n",
              "dtype: int64"
            ]
          },
          "metadata": {
            "tags": []
          },
          "execution_count": 13
        }
      ]
    },
    {
      "cell_type": "markdown",
      "metadata": {
        "id": "82l60bgp0vR5"
      },
      "source": [
        "Answer here: "
      ]
    },
    {
      "cell_type": "markdown",
      "metadata": {
        "id": "5ZeOv8ELAy8u"
      },
      "source": [
        "5) Calculate and interpret the correlation coefficient for the relationship between head size and brain weight.  "
      ]
    },
    {
      "cell_type": "code",
      "metadata": {
        "id": "GyoPNwziBm-5",
        "outputId": "11852e81-144c-46f6-dc5f-8d6d095816c5",
        "colab": {
          "base_uri": "https://localhost:8080/",
          "height": 54
        }
      },
      "source": [
        "np.corrcoef(df['Head'],df['Brain'])"
      ],
      "execution_count": 14,
      "outputs": [
        {
          "output_type": "execute_result",
          "data": {
            "text/plain": [
              "array([[1.        , 0.79956971],\n",
              "       [0.79956971, 1.        ]])"
            ]
          },
          "metadata": {
            "tags": []
          },
          "execution_count": 14
        }
      ]
    },
    {
      "cell_type": "markdown",
      "metadata": {
        "id": "XK5-ZKk_DFLh"
      },
      "source": [
        "> There is strong positive correlation coefficient of 0.8 between head size and brain weight. "
      ]
    },
    {
      "cell_type": "markdown",
      "metadata": {
        "id": "AzdWVytNTTib"
      },
      "source": [
        "6) Without doing any other calculations, determine the correlation of brain weight with head size."
      ]
    },
    {
      "cell_type": "markdown",
      "metadata": {
        "id": "N1DwNk3MrIp3"
      },
      "source": [
        "> It will be the same as correlation of head size and brain weight or 0.8.\n"
      ]
    },
    {
      "cell_type": "markdown",
      "metadata": {
        "id": "RFa5JXjmxive"
      },
      "source": [
        "7) Use Python to calculate the slope and intercept terms for the model of head size and brain weight."
      ]
    },
    {
      "cell_type": "code",
      "metadata": {
        "id": "dWWiUtwTyHp2"
      },
      "source": [
        "import scipy.stats as stats"
      ],
      "execution_count": 30,
      "outputs": []
    },
    {
      "cell_type": "code",
      "metadata": {
        "id": "-O6iUZ62TG0K"
      },
      "source": [
        "m,b,r,p,e = stats.linregress(df['Head'], df['Brain'])"
      ],
      "execution_count": 34,
      "outputs": []
    },
    {
      "cell_type": "code",
      "metadata": {
        "id": "Tvm6-2vyTiWC",
        "outputId": "6ee3e8f8-0628-44b5-b2a2-f7393010989b",
        "colab": {
          "base_uri": "https://localhost:8080/",
          "height": 35
        }
      },
      "source": [
        "m,b"
      ],
      "execution_count": 35,
      "outputs": [
        {
          "output_type": "execute_result",
          "data": {
            "text/plain": [
              "(0.2634293394893994, 325.57342104944235)"
            ]
          },
          "metadata": {
            "tags": []
          },
          "execution_count": 35
        }
      ]
    },
    {
      "cell_type": "markdown",
      "metadata": {
        "id": "aAAlveuK050b"
      },
      "source": [
        "8) Use the model output above to write the linear model relating head size to brain weight (ie fill in the b terms with the correct numbers from above).\n",
        "\n",
        "$$\\hat{Y} = b_0 + b_1X$$\n",
        "\n"
      ]
    },
    {
      "cell_type": "markdown",
      "metadata": {
        "id": "lm3Q5xItygsW"
      },
      "source": [
        "Answer here: \n",
        "> $$\\hat{Y} = 325.573 + 0.2634X$$"
      ]
    },
    {
      "cell_type": "markdown",
      "metadata": {
        "id": "_KlS62UB1UAi"
      },
      "source": [
        "9) What does the slope term tell us about the relationship between head size and brain weight?"
      ]
    },
    {
      "cell_type": "markdown",
      "metadata": {
        "id": "DW4aHn_t1saW"
      },
      "source": [
        "> Slope tells us the magnitude of change of dependent variable per one unit change of independent variable."
      ]
    },
    {
      "cell_type": "markdown",
      "metadata": {
        "id": "BXsUc9n02Th0"
      },
      "source": [
        "10) What does the intercept tell us about the relationship between head size and brain weight?"
      ]
    },
    {
      "cell_type": "markdown",
      "metadata": {
        "id": "Zy58W12J4JJu"
      },
      "source": [
        "> What value target takes when feature equals to zero, or where regression line crossing Y axis."
      ]
    },
    {
      "cell_type": "markdown",
      "metadata": {
        "id": "f0NjkceYb2sY"
      },
      "source": [
        "11) Draw a scatterplot with the regression line overlayed on top of the points."
      ]
    },
    {
      "cell_type": "code",
      "metadata": {
        "id": "dKxmzQLYabfm",
        "outputId": "3984f8c7-200a-48ec-a07f-1a96176bab24",
        "colab": {
          "base_uri": "https://localhost:8080/",
          "height": 347
        }
      },
      "source": [
        "plt.style.use('seaborn')\n",
        "fig, ax = plt.subplots()\n",
        "\n",
        "ax.scatter(df['Head'], df['Brain'])\n",
        "ax.plot(df['Head'], [325.573 + 0.2634 * i for i in df['Head']], color = 'r',\n",
        "        linestyle = 'dotted', lw = 1.0)\n",
        "\n",
        "plt.show()"
      ],
      "execution_count": 45,
      "outputs": [
        {
          "output_type": "display_data",
          "data": {
            "image/png": "[encoded data removed]",
            "text/plain": [
              "<Figure size 576x396 with 1 Axes>"
            ]
          },
          "metadata": {
            "tags": []
          }
        }
      ]
    },
    {
      "cell_type": "markdown",
      "metadata": {
        "id": "7dySccNE3pX7"
      },
      "source": [
        "12) A healty human has a brain size of 4100 cubic cm, how much do we expect his or her brain to weigh?"
      ]
    },
    {
      "cell_type": "code",
      "metadata": {
        "id": "BNV0bbzH4NFX"
      },
      "source": [
        "f = lambda x: 0.2634*x + 325.573"
      ],
      "execution_count": 46,
      "outputs": []
    },
    {
      "cell_type": "code",
      "metadata": {
        "id": "hH7CPF8ZXGbT",
        "outputId": "813c6d57-14c4-4665-d4f6-43fca61c64b2",
        "colab": {
          "base_uri": "https://localhost:8080/",
          "height": 35
        }
      },
      "source": [
        "f(4100)"
      ],
      "execution_count": 47,
      "outputs": [
        {
          "output_type": "execute_result",
          "data": {
            "text/plain": [
              "1405.513"
            ]
          },
          "metadata": {
            "tags": []
          },
          "execution_count": 47
        }
      ]
    },
    {
      "cell_type": "markdown",
      "metadata": {
        "id": "OnGU23JI6C1r"
      },
      "source": [
        "> While head size is 4100 brain weight expected to be ~1406."
      ]
    },
    {
      "cell_type": "markdown",
      "metadata": {
        "id": "rogizl36Bape"
      },
      "source": [
        "13) Calculate and interpret the model residual for for the first observation in the dataset (head size = 4512 cubic cm)."
      ]
    },
    {
      "cell_type": "code",
      "metadata": {
        "id": "L9_qbtRtBnvr",
        "outputId": "c1626385-53be-42dd-a7fb-0671b7802f33",
        "colab": {
          "base_uri": "https://localhost:8080/",
          "height": 206
        }
      },
      "source": [
        "df.head()"
      ],
      "execution_count": 48,
      "outputs": [
        {
          "output_type": "execute_result",
          "data": {
            "text/html": [
              "<div>\n",
              "<style scoped>\n",
              "    .dataframe tbody tr th:only-of-type {\n",
              "        vertical-align: middle;\n",
              "    }\n",
              "\n",
              "    .dataframe tbody tr th {\n",
              "        vertical-align: top;\n",
              "    }\n",
              "\n",
              "    .dataframe thead th {\n",
              "        text-align: right;\n",
              "    }\n",
              "</style>\n",
              "<table border=\"1\" class=\"dataframe\">\n",
              "  <thead>\n",
              "    <tr style=\"text-align: right;\">\n",
              "      <th></th>\n",
              "      <th>Gender</th>\n",
              "      <th>Age</th>\n",
              "      <th>Head</th>\n",
              "      <th>Brain</th>\n",
              "    </tr>\n",
              "  </thead>\n",
              "  <tbody>\n",
              "    <tr>\n",
              "      <th>0</th>\n",
              "      <td>1</td>\n",
              "      <td>1</td>\n",
              "      <td>4512</td>\n",
              "      <td>1530</td>\n",
              "    </tr>\n",
              "    <tr>\n",
              "      <th>1</th>\n",
              "      <td>1</td>\n",
              "      <td>1</td>\n",
              "      <td>3738</td>\n",
              "      <td>1297</td>\n",
              "    </tr>\n",
              "    <tr>\n",
              "      <th>2</th>\n",
              "      <td>1</td>\n",
              "      <td>1</td>\n",
              "      <td>4261</td>\n",
              "      <td>1335</td>\n",
              "    </tr>\n",
              "    <tr>\n",
              "      <th>3</th>\n",
              "      <td>1</td>\n",
              "      <td>1</td>\n",
              "      <td>3777</td>\n",
              "      <td>1282</td>\n",
              "    </tr>\n",
              "    <tr>\n",
              "      <th>4</th>\n",
              "      <td>1</td>\n",
              "      <td>1</td>\n",
              "      <td>4177</td>\n",
              "      <td>1590</td>\n",
              "    </tr>\n",
              "  </tbody>\n",
              "</table>\n",
              "</div>"
            ],
            "text/plain": [
              "   Gender  Age  Head  Brain\n",
              "0       1    1  4512   1530\n",
              "1       1    1  3738   1297\n",
              "2       1    1  4261   1335\n",
              "3       1    1  3777   1282\n",
              "4       1    1  4177   1590"
            ]
          },
          "metadata": {
            "tags": []
          },
          "execution_count": 48
        }
      ]
    },
    {
      "cell_type": "code",
      "metadata": {
        "id": "d8hURY1HBq6v",
        "outputId": "fdf1ff9b-f77f-44a8-87bf-7658d6ea02f0",
        "colab": {
          "base_uri": "https://localhost:8080/",
          "height": 35
        }
      },
      "source": [
        "1530 - f(4512), 1297 - f(3738)"
      ],
      "execution_count": 50,
      "outputs": [
        {
          "output_type": "execute_result",
          "data": {
            "text/plain": [
              "(15.966199999999844, -13.162200000000212)"
            ]
          },
          "metadata": {
            "tags": []
          },
          "execution_count": 50
        }
      ]
    },
    {
      "cell_type": "markdown",
      "metadata": {
        "id": "75sfaALjCB4f"
      },
      "source": [
        "> Model residual for first two observations is 15.9 and 13.16 respectively."
      ]
    },
    {
      "cell_type": "markdown",
      "metadata": {
        "id": "LSVXvBZGcF48"
      },
      "source": [
        "#Portfolio Project Assignment."
      ]
    },
    {
      "cell_type": "markdown",
      "metadata": {
        "id": "dnM2THk30l36"
      },
      "source": [
        "We're coming into the home stretch!  Finalize your project results.  Ask any lingering questions, and complete any revisions you have.  This would be a good time to have a classmate take a look at your project and point out anything missing or any obvious errors (they happen to everyone!)."
      ]
    }
  ]
}