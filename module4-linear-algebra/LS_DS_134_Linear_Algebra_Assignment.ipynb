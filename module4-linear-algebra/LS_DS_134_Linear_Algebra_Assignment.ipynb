{
  "nbformat": 4,
  "nbformat_minor": 0,
  "metadata": {
    "colab": {
      "name": "Copy of LS_DS_134_Linear_Algebra_Assignment.ipynb",
      "provenance": [],
      "collapsed_sections": [],
      "include_colab_link": true
    },
    "kernelspec": {
      "display_name": "Python 3",
      "language": "python",
      "name": "python3"
    },
    "language_info": {
      "codemirror_mode": {
        "name": "ipython",
        "version": 3
      },
      "file_extension": ".py",
      "mimetype": "text/x-python",
      "name": "python",
      "nbconvert_exporter": "python",
      "pygments_lexer": "ipython3",
      "version": "3.6.4"
    }
  },
  "cells": [
    {
      "cell_type": "markdown",
      "metadata": {
        "id": "view-in-github",
        "colab_type": "text"
      },
      "source": [
        "<a href=\"https://colab.research.google.com/github/andrew-ryabchenko/DS-Unit-1-Sprint-3-Linear-Algebra/blob/master/module4-linear-algebra/LS_DS_134_Linear_Algebra_Assignment.ipynb\" target=\"_parent\"><img src=\"https://colab.research.google.com/assets/colab-badge.svg\" alt=\"Open In Colab\"/></a>"
      ]
    },
    {
      "cell_type": "markdown",
      "metadata": {
        "id": "iovQcSbqJl0_"
      },
      "source": [
        "## Objectives:\n",
        "- define a vector and calculate a vector length and dot product\n",
        "- define a matrix and calculate a matrix dot product, transpose, and inverse\n",
        "- explain cosine similarity and compute the similarity between two vectors\n",
        "- use linear algebra to solve for linear regression coefficients"
      ]
    },
    {
      "cell_type": "markdown",
      "metadata": {
        "id": "cFb8YfSCQJmx"
      },
      "source": [
        "#Use the following information to answer the assignment questions 1) - 11)."
      ]
    },
    {
      "cell_type": "markdown",
      "metadata": {
        "id": "MHWnltybtm8_"
      },
      "source": [
        "###Is head size related to brain weight in healthy adult humans?\n",
        "\n",
        "The Brainhead.csv dataset provides information on 237 individuals who were subject to post-mortem examination at the Middlesex Hospital in London around the turn of the 20th century. Study authors used cadavers to see if a relationship between brain weight and other more easily measured physiological characterizes such as age, sex, and head size could be determined. The end goal was to develop a way to estimate a person’s brain size while they were still alive (as the living aren’t keen on having their brains taken out and weighed). "
      ]
    },
    {
      "cell_type": "markdown",
      "metadata": {
        "id": "h5MRpr1HQHqp"
      },
      "source": [
        "**We wish to determine if we can improve on our model of the linear relationship between head size and brain weight in healthy human adults.**\n",
        "\n",
        "Source: R.J. Gladstone (1905). \"A Study of the Relations of the Brain to the Size of the Head\", Biometrika, Vol. 4, pp105-123."
      ]
    },
    {
      "cell_type": "code",
      "metadata": {
        "id": "0NKz1DvXQHqq",
        "outputId": "e539acec-8d0b-4414-a709-8ca962e8a69f",
        "colab": {
          "base_uri": "https://localhost:8080/",
          "height": 206
        }
      },
      "source": [
        "#Import the Brainhead.csv dataset from a URL and print the first few rows\n",
        "\n",
        "import pandas as pd\n",
        "import numpy as np\n",
        "\n",
        "\n",
        "data_url = 'https://raw.githubusercontent.com/LambdaSchool/data-science-practice-datasets/main/unit_1/Brainhead/Brainhead.csv'\n",
        "\n",
        "df = pd.read_csv(data_url, skipinitialspace=True, header=0)\n",
        "\n",
        "df.head()"
      ],
      "execution_count": null,
      "outputs": [
        {
          "output_type": "execute_result",
          "data": {
            "text/html": [
              "<div>\n",
              "<style scoped>\n",
              "    .dataframe tbody tr th:only-of-type {\n",
              "        vertical-align: middle;\n",
              "    }\n",
              "\n",
              "    .dataframe tbody tr th {\n",
              "        vertical-align: top;\n",
              "    }\n",
              "\n",
              "    .dataframe thead th {\n",
              "        text-align: right;\n",
              "    }\n",
              "</style>\n",
              "<table border=\"1\" class=\"dataframe\">\n",
              "  <thead>\n",
              "    <tr style=\"text-align: right;\">\n",
              "      <th></th>\n",
              "      <th>Gender</th>\n",
              "      <th>Age</th>\n",
              "      <th>Head</th>\n",
              "      <th>Brain</th>\n",
              "    </tr>\n",
              "  </thead>\n",
              "  <tbody>\n",
              "    <tr>\n",
              "      <th>0</th>\n",
              "      <td>1</td>\n",
              "      <td>1</td>\n",
              "      <td>4512</td>\n",
              "      <td>1530</td>\n",
              "    </tr>\n",
              "    <tr>\n",
              "      <th>1</th>\n",
              "      <td>1</td>\n",
              "      <td>1</td>\n",
              "      <td>3738</td>\n",
              "      <td>1297</td>\n",
              "    </tr>\n",
              "    <tr>\n",
              "      <th>2</th>\n",
              "      <td>1</td>\n",
              "      <td>1</td>\n",
              "      <td>4261</td>\n",
              "      <td>1335</td>\n",
              "    </tr>\n",
              "    <tr>\n",
              "      <th>3</th>\n",
              "      <td>1</td>\n",
              "      <td>1</td>\n",
              "      <td>3777</td>\n",
              "      <td>1282</td>\n",
              "    </tr>\n",
              "    <tr>\n",
              "      <th>4</th>\n",
              "      <td>1</td>\n",
              "      <td>1</td>\n",
              "      <td>4177</td>\n",
              "      <td>1590</td>\n",
              "    </tr>\n",
              "  </tbody>\n",
              "</table>\n",
              "</div>"
            ],
            "text/plain": [
              "   Gender  Age  Head  Brain\n",
              "0       1    1  4512   1530\n",
              "1       1    1  3738   1297\n",
              "2       1    1  4261   1335\n",
              "3       1    1  3777   1282\n",
              "4       1    1  4177   1590"
            ]
          },
          "metadata": {
            "tags": []
          },
          "execution_count": 74
        }
      ]
    },
    {
      "cell_type": "markdown",
      "metadata": {
        "id": "UZ645l24as2R"
      },
      "source": [
        "1) Store the response variable - brain size - as a matrix called Y."
      ]
    },
    {
      "cell_type": "code",
      "metadata": {
        "id": "UVhixZZZQfUw"
      },
      "source": [
        "Y = np.array(df['Brain']).reshape((-1,1))"
      ],
      "execution_count": null,
      "outputs": []
    },
    {
      "cell_type": "markdown",
      "metadata": {
        "id": "l_tU9rAlbhh4"
      },
      "source": [
        "2) Store the explanatory variable - head size size - as a matrix called X.  Don't forget to include the column of 1s for the intercept term."
      ]
    },
    {
      "cell_type": "code",
      "metadata": {
        "id": "_fGlhvmTbJdV"
      },
      "source": [
        "X = np.array(df['Head']).reshape((-1,1))"
      ],
      "execution_count": null,
      "outputs": []
    },
    {
      "cell_type": "code",
      "metadata": {
        "id": "sydA0WsOkzk9"
      },
      "source": [
        "ones = np.array(np.ones(len(X))).reshape((-1,1))"
      ],
      "execution_count": null,
      "outputs": []
    },
    {
      "cell_type": "code",
      "metadata": {
        "id": "T00OyehhtLBZ"
      },
      "source": [
        "X = np.concatenate((ones, X), axis = 1)"
      ],
      "execution_count": null,
      "outputs": []
    },
    {
      "cell_type": "code",
      "metadata": {
        "id": "Qml_j8gZnnje"
      },
      "source": [
        "#np.transpose(X).shape"
      ],
      "execution_count": null,
      "outputs": []
    },
    {
      "cell_type": "code",
      "metadata": {
        "id": "ScZjIyGK1y6X",
        "outputId": "fa580127-280c-4885-a3fd-1db6762b077d",
        "colab": {
          "base_uri": "https://localhost:8080/",
          "height": 35
        }
      },
      "source": [
        "X.shape"
      ],
      "execution_count": null,
      "outputs": [
        {
          "output_type": "execute_result",
          "data": {
            "text/plain": [
              "(237, 2)"
            ]
          },
          "metadata": {
            "tags": []
          },
          "execution_count": 108
        }
      ]
    },
    {
      "cell_type": "markdown",
      "metadata": {
        "id": "CTtxhF82ceG7"
      },
      "source": [
        "3) Calculate $X^T$.  Explain what the transpose of a matrix is."
      ]
    },
    {
      "cell_type": "code",
      "metadata": {
        "id": "m_Dd1ZbU335I"
      },
      "source": [
        "X_t = np.transpose(X)"
      ],
      "execution_count": null,
      "outputs": []
    },
    {
      "cell_type": "code",
      "metadata": {
        "id": "xo27ZZfnk5oJ",
        "outputId": "9b287dd1-254d-4797-aee3-f9bcc46f182d",
        "colab": {
          "base_uri": "https://localhost:8080/",
          "height": 35
        }
      },
      "source": [
        "X_t.shape"
      ],
      "execution_count": null,
      "outputs": [
        {
          "output_type": "execute_result",
          "data": {
            "text/plain": [
              "(3, 237)"
            ]
          },
          "metadata": {
            "tags": []
          },
          "execution_count": 124
        }
      ]
    },
    {
      "cell_type": "markdown",
      "metadata": {
        "id": "6x8IEWIOc8qJ"
      },
      "source": [
        "> Transposing matrix is making a new matrix where each row is a column of the original matrix and each column is a row of the original matrix."
      ]
    },
    {
      "cell_type": "markdown",
      "metadata": {
        "id": "GGng_b0CdJbV"
      },
      "source": [
        "4) Use matrix multplication to calculate $X^TX$"
      ]
    },
    {
      "cell_type": "code",
      "metadata": {
        "id": "_cOjfx-wcvca"
      },
      "source": [
        "X_t_X = np.matmul(X_t,X)"
      ],
      "execution_count": null,
      "outputs": []
    },
    {
      "cell_type": "code",
      "metadata": {
        "id": "gilkJU36pkzj",
        "outputId": "b62bc9f6-9749-4694-e6d1-4784a4cbbf73",
        "colab": {
          "base_uri": "https://localhost:8080/",
          "height": 72
        }
      },
      "source": [
        "X_t_X"
      ],
      "execution_count": null,
      "outputs": [
        {
          "output_type": "execute_result",
          "data": {
            "text/plain": [
              "array([[3.16128319e+09, 1.31823100e+06, 8.61256000e+05],\n",
              "       [1.31823100e+06, 6.18000000e+02, 3.64000000e+02],\n",
              "       [8.61256000e+05, 3.64000000e+02, 2.37000000e+02]])"
            ]
          },
          "metadata": {
            "tags": []
          },
          "execution_count": 126
        }
      ]
    },
    {
      "cell_type": "markdown",
      "metadata": {
        "id": "xihZH2tIdWGc"
      },
      "source": [
        "5) Calculate $(X^TX)^{-1}$.  Explain what the inverse of a matrix is."
      ]
    },
    {
      "cell_type": "code",
      "metadata": {
        "id": "WxOrKY9F391Z"
      },
      "source": [
        "X_t_X_inv = np.linalg.inv(X_t_X)"
      ],
      "execution_count": null,
      "outputs": []
    },
    {
      "cell_type": "code",
      "metadata": {
        "id": "DQZjXgPS2Jyc",
        "outputId": "7f1be478-68da-4cfb-b202-abf108b0b47c",
        "colab": {
          "base_uri": "https://localhost:8080/",
          "height": 72
        }
      },
      "source": [
        "X_t_X_inv"
      ],
      "execution_count": null,
      "outputs": [
        {
          "output_type": "execute_result",
          "data": {
            "text/plain": [
              "array([[ 3.21169750e-08,  2.47472443e-06, -1.20513659e-04],\n",
              "       [ 2.47472443e-06,  1.71556109e-02, -3.53418297e-02],\n",
              "       [-1.20513659e-04, -3.53418297e-02,  4.96445307e-01]])"
            ]
          },
          "metadata": {
            "tags": []
          },
          "execution_count": 128
        }
      ]
    },
    {
      "cell_type": "markdown",
      "metadata": {
        "id": "ZG14QgKzdnDF"
      },
      "source": [
        "> Inverse is the reciprocal of the matrix."
      ]
    },
    {
      "cell_type": "markdown",
      "metadata": {
        "id": "Z3-aBWcJdwlS"
      },
      "source": [
        "6) Use matrix multiplication to calculate $X^TY$."
      ]
    },
    {
      "cell_type": "code",
      "metadata": {
        "id": "IzDRPF924FNk"
      },
      "source": [
        "X_t_Y = np.matmul(X_t,Y)"
      ],
      "execution_count": null,
      "outputs": []
    },
    {
      "cell_type": "code",
      "metadata": {
        "id": "Sqk8Js30r_Ca",
        "outputId": "a75a4d38-4ec6-442b-f759-e62ce8aed93b",
        "colab": {
          "base_uri": "https://localhost:8080/",
          "height": 72
        }
      },
      "source": [
        "X_t_Y"
      ],
      "execution_count": null,
      "outputs": [
        {
          "output_type": "execute_result",
          "data": {
            "text/plain": [
              "array([[1.1131768e+09],\n",
              "       [4.6456100e+05],\n",
              "       [3.0404100e+05]])"
            ]
          },
          "metadata": {
            "tags": []
          },
          "execution_count": 130
        }
      ]
    },
    {
      "cell_type": "markdown",
      "metadata": {
        "id": "uImjL8qgeDKS"
      },
      "source": [
        "7) Use your previous results to calculate the values of the slope and intercept using the formula $$ B = (X^{'}X)^{-1}X^{'}Y$$"
      ]
    },
    {
      "cell_type": "code",
      "metadata": {
        "id": "ataF2sSMagfm"
      },
      "source": [
        "B = np.matmul(X_t_X_inv,X_t_Y)"
      ],
      "execution_count": null,
      "outputs": []
    },
    {
      "cell_type": "code",
      "metadata": {
        "id": "sEOq3KdcsMna",
        "outputId": "d0e704ea-506c-4a90-ab82-8dd7fd10f8bb",
        "colab": {
          "base_uri": "https://localhost:8080/",
          "height": 54
        }
      },
      "source": [
        "B"
      ],
      "execution_count": null,
      "outputs": [
        {
          "output_type": "execute_result",
          "data": {
            "text/plain": [
              "array([[3.25573421e+02],\n",
              "       [2.63429339e-01]])"
            ]
          },
          "metadata": {
            "tags": []
          },
          "execution_count": 118
        }
      ]
    },
    {
      "cell_type": "markdown",
      "metadata": {
        "id": "58tEkd1YibRJ"
      },
      "source": [
        "8) Use the OLS function to calculate the slope and intercept and compare your answers."
      ]
    },
    {
      "cell_type": "code",
      "metadata": {
        "id": "cAz2v2l27XQC",
        "outputId": "85f2f781-125d-4498-925b-2b3ba019ef2e",
        "colab": {
          "base_uri": "https://localhost:8080/",
          "height": 536
        }
      },
      "source": [
        "from statsmodels.formula.api import ols\n",
        "\n",
        "model = ols('Brain~Head', data = df ).fit()\n",
        "\n",
        "print(model.summary())"
      ],
      "execution_count": null,
      "outputs": [
        {
          "output_type": "stream",
          "text": [
            "                            OLS Regression Results                            \n",
            "==============================================================================\n",
            "Dep. Variable:                  Brain   R-squared:                       0.639\n",
            "Model:                            OLS   Adj. R-squared:                  0.638\n",
            "Method:                 Least Squares   F-statistic:                     416.5\n",
            "Date:                Fri, 16 Oct 2020   Prob (F-statistic):           5.96e-54\n",
            "Time:                        05:19:56   Log-Likelihood:                -1350.3\n",
            "No. Observations:                 237   AIC:                             2705.\n",
            "Df Residuals:                     235   BIC:                             2711.\n",
            "Df Model:                           1                                         \n",
            "Covariance Type:            nonrobust                                         \n",
            "==============================================================================\n",
            "                 coef    std err          t      P>|t|      [0.025      0.975]\n",
            "------------------------------------------------------------------------------\n",
            "Intercept    325.5734     47.141      6.906      0.000     232.701     418.446\n",
            "Head           0.2634      0.013     20.409      0.000       0.238       0.289\n",
            "==============================================================================\n",
            "Omnibus:                        8.329   Durbin-Watson:                   1.843\n",
            "Prob(Omnibus):                  0.016   Jarque-Bera (JB):                8.665\n",
            "Skew:                           0.366   Prob(JB):                       0.0131\n",
            "Kurtosis:                       3.584   Cond. No.                     3.66e+04\n",
            "==============================================================================\n",
            "\n",
            "Warnings:\n",
            "[1] Standard Errors assume that the covariance matrix of the errors is correctly specified.\n",
            "[2] The condition number is large, 3.66e+04. This might indicate that there are\n",
            "strong multicollinearity or other numerical problems.\n"
          ],
          "name": "stdout"
        }
      ]
    },
    {
      "cell_type": "markdown",
      "metadata": {
        "id": "fldeKZQJiWJY"
      },
      "source": [
        "9) Create a new X matrix that includes coluns for both head size and age group."
      ]
    },
    {
      "cell_type": "code",
      "metadata": {
        "id": "oPcw9dTl29Rm",
        "outputId": "918bb8dd-6a10-472d-b5cd-eed360d1eba3",
        "colab": {
          "base_uri": "https://localhost:8080/",
          "height": 206
        }
      },
      "source": [
        "df.head()"
      ],
      "execution_count": null,
      "outputs": [
        {
          "output_type": "execute_result",
          "data": {
            "text/html": [
              "<div>\n",
              "<style scoped>\n",
              "    .dataframe tbody tr th:only-of-type {\n",
              "        vertical-align: middle;\n",
              "    }\n",
              "\n",
              "    .dataframe tbody tr th {\n",
              "        vertical-align: top;\n",
              "    }\n",
              "\n",
              "    .dataframe thead th {\n",
              "        text-align: right;\n",
              "    }\n",
              "</style>\n",
              "<table border=\"1\" class=\"dataframe\">\n",
              "  <thead>\n",
              "    <tr style=\"text-align: right;\">\n",
              "      <th></th>\n",
              "      <th>Gender</th>\n",
              "      <th>Age</th>\n",
              "      <th>Head</th>\n",
              "      <th>Brain</th>\n",
              "    </tr>\n",
              "  </thead>\n",
              "  <tbody>\n",
              "    <tr>\n",
              "      <th>0</th>\n",
              "      <td>1</td>\n",
              "      <td>1</td>\n",
              "      <td>4512</td>\n",
              "      <td>1530</td>\n",
              "    </tr>\n",
              "    <tr>\n",
              "      <th>1</th>\n",
              "      <td>1</td>\n",
              "      <td>1</td>\n",
              "      <td>3738</td>\n",
              "      <td>1297</td>\n",
              "    </tr>\n",
              "    <tr>\n",
              "      <th>2</th>\n",
              "      <td>1</td>\n",
              "      <td>1</td>\n",
              "      <td>4261</td>\n",
              "      <td>1335</td>\n",
              "    </tr>\n",
              "    <tr>\n",
              "      <th>3</th>\n",
              "      <td>1</td>\n",
              "      <td>1</td>\n",
              "      <td>3777</td>\n",
              "      <td>1282</td>\n",
              "    </tr>\n",
              "    <tr>\n",
              "      <th>4</th>\n",
              "      <td>1</td>\n",
              "      <td>1</td>\n",
              "      <td>4177</td>\n",
              "      <td>1590</td>\n",
              "    </tr>\n",
              "  </tbody>\n",
              "</table>\n",
              "</div>"
            ],
            "text/plain": [
              "   Gender  Age  Head  Brain\n",
              "0       1    1  4512   1530\n",
              "1       1    1  3738   1297\n",
              "2       1    1  4261   1335\n",
              "3       1    1  3777   1282\n",
              "4       1    1  4177   1590"
            ]
          },
          "metadata": {
            "tags": []
          },
          "execution_count": 120
        }
      ]
    },
    {
      "cell_type": "code",
      "metadata": {
        "id": "p5k_g4HBkPvv"
      },
      "source": [
        "head = np.array(df['Head']).reshape((-1,1))\n",
        "age = np.array(df['Age']).reshape((-1,1))\n",
        "ones  = np.ones(len(head)).reshape((-1,1))\n",
        "X = np.concatenate((ones, head ,age), axis = 1)\n"
      ],
      "execution_count": null,
      "outputs": []
    },
    {
      "cell_type": "markdown",
      "metadata": {
        "id": "NaPLUX6P7eV6"
      },
      "source": [
        "11) Calculate the values of the intercept and slope terms for head size and age using the formula $$ B = (X^{'}X)^{-1}X^{'}Y$$"
      ]
    },
    {
      "cell_type": "code",
      "metadata": {
        "id": "wffPKuJVkrCB",
        "outputId": "cc9108e9-17c3-47a8-c694-a1381d000540",
        "colab": {
          "base_uri": "https://localhost:8080/",
          "height": 72
        }
      },
      "source": [
        "B"
      ],
      "execution_count": null,
      "outputs": [
        {
          "output_type": "execute_result",
          "data": {
            "text/plain": [
              "array([[ 2.60438766e-01],\n",
              "       [-2.07316446e+01],\n",
              "       [ 3.68282145e+02]])"
            ]
          },
          "metadata": {
            "tags": []
          },
          "execution_count": 132
        }
      ]
    },
    {
      "cell_type": "markdown",
      "metadata": {
        "id": "m92gsZo-8TcP"
      },
      "source": [
        "11) Use the OLS function to confirm your answer in 10)."
      ]
    },
    {
      "cell_type": "code",
      "metadata": {
        "id": "1k7mU2R-lGeL"
      },
      "source": [
        "model = ols('Brain~Head+Age', data = df).fit()"
      ],
      "execution_count": null,
      "outputs": []
    },
    {
      "cell_type": "code",
      "metadata": {
        "id": "8F4lystC4E8C",
        "outputId": "7bb310bd-7b31-4bbd-bb65-21d450343b1b",
        "colab": {
          "base_uri": "https://localhost:8080/",
          "height": 554
        }
      },
      "source": [
        "print(model.summary())"
      ],
      "execution_count": null,
      "outputs": [
        {
          "output_type": "stream",
          "text": [
            "                            OLS Regression Results                            \n",
            "==============================================================================\n",
            "Dep. Variable:                  Brain   R-squared:                       0.647\n",
            "Model:                            OLS   Adj. R-squared:                  0.644\n",
            "Method:                 Least Squares   F-statistic:                     214.1\n",
            "Date:                Fri, 16 Oct 2020   Prob (F-statistic):           1.38e-53\n",
            "Time:                        05:27:24   Log-Likelihood:                -1347.8\n",
            "No. Observations:                 237   AIC:                             2702.\n",
            "Df Residuals:                     234   BIC:                             2712.\n",
            "Df Model:                           2                                         \n",
            "Covariance Type:            nonrobust                                         \n",
            "==============================================================================\n",
            "                 coef    std err          t      P>|t|      [0.025      0.975]\n",
            "------------------------------------------------------------------------------\n",
            "Intercept    368.2821     50.618      7.276      0.000     268.557     468.007\n",
            "Head           0.2604      0.013     20.229      0.000       0.235       0.286\n",
            "Age          -20.7316      9.410     -2.203      0.029     -39.270      -2.193\n",
            "==============================================================================\n",
            "Omnibus:                        7.943   Durbin-Watson:                   1.889\n",
            "Prob(Omnibus):                  0.019   Jarque-Bera (JB):                8.238\n",
            "Skew:                           0.353   Prob(JB):                       0.0163\n",
            "Kurtosis:                       3.579   Cond. No.                     3.97e+04\n",
            "==============================================================================\n",
            "\n",
            "Warnings:\n",
            "[1] Standard Errors assume that the covariance matrix of the errors is correctly specified.\n",
            "[2] The condition number is large, 3.97e+04. This might indicate that there are\n",
            "strong multicollinearity or other numerical problems.\n"
          ],
          "name": "stdout"
        }
      ]
    },
    {
      "cell_type": "markdown",
      "metadata": {
        "id": "J10sSUChlzRH"
      },
      "source": [
        "#Use the following information to answer the assignment questions 12) - 16)."
      ]
    },
    {
      "cell_type": "markdown",
      "metadata": {
        "id": "9k2KIZbTl2kb"
      },
      "source": [
        "The song writing collaboration between John Lennon and Paul McCartney was one of the most productive in music history.  Unlike many other partnerships where one individual wrote lyrics and one wrote music, Lennon and McCartney composed both, and it was decided that any song that was written would be credited to both.  In the beginning of their relationship, many of their songs were truly collabroative.  However, later on, they often worked separately with little to no input from the other.    "
      ]
    },
    {
      "cell_type": "markdown",
      "metadata": {
        "id": "LsUaHKcEnhqc"
      },
      "source": [
        "Because of extensive reporting on the Beatles over the years, it is generally known if a Lennon-McCartney song was a true collabortion, primarily (or totally) writen by Lennon, or primarily (or totally) written by McCartney.  \n",
        "\n",
        "However, there are several disputed songs where both Lennon and McCartney at times claimed to be the sole (or primary) composer.\n",
        "\n",
        "We will now use cosine similarity to determine if *Ticket to Ride* (disputed) is most similar to *From Me to You* (collabortive, not disputed) or *Strawberry Fields* (Lennon, not disputed).\n",
        "\n",
        "From the Wikipedia article on the Lennon-McCartney Partnership: Lennon said that McCartney's contribution was limited to \"the way Ringo played the drums\".In Many Years from Now, McCartney said \"we sat down and wrote it together ... give him 60 percent of it.\""
      ]
    },
    {
      "cell_type": "markdown",
      "metadata": {
        "id": "MVipjsqR9o5y"
      },
      "source": [
        "12) Import the text of Strawberry Fields and calculate the freqency of song lyrics using the code below."
      ]
    },
    {
      "cell_type": "code",
      "metadata": {
        "id": "0eBiQ4oz61J-",
        "outputId": "4766b885-4af0-4891-a9ed-223bc073bf16",
        "colab": {
          "base_uri": "https://localhost:8080/",
          "height": 237
        }
      },
      "source": [
        "import pandas as pd\n",
        "\n",
        "#Strawberry Fields - John Lennon (not disputed)\n",
        "\n",
        "Strawberry_ = \"let me take you down cause Im going to Strawberry Fields nothing is real and nothing to get hung about Strawberry Fields forever living is easy with eyes closed misunderstanding all you see its getting hard to be someone but it all works out it doesnt matter much to me let me take you down cause Im going to Strawberry Fields nothing is real and nothing to get hung about Strawberry Fields forever no one I think is in my tree I mean it must be high or low that is you cant you know tune in but its all right that is I think its not too bad let me take you down cause Im going to Strawberry Fields nothing is real and nothing to get hung about Strawberry Fields forever always no sometimes think but you know I know when it's a dream I think er no I mean er yes but its all wrong that is I think I disagree let me take you down cause Im going to Strawberry Fields nothing is real and nothing to get hung about Strawberry Fields forever Strawberry Fields forever Strawberry Fields forever\"\n",
        "\n",
        "Strawberry_ = Strawberry_.lower()\n",
        "\n",
        "Strawberry_df = pd.DataFrame({\"Words\": Strawberry_.split()})\n",
        "\n",
        "Strawberry_df = pd.crosstab(Strawberry_df['Words'], 'count_strawberry')\n",
        "\n",
        "Strawberry_df.head()"
      ],
      "execution_count": 37,
      "outputs": [
        {
          "output_type": "execute_result",
          "data": {
            "text/html": [
              "<div>\n",
              "<style scoped>\n",
              "    .dataframe tbody tr th:only-of-type {\n",
              "        vertical-align: middle;\n",
              "    }\n",
              "\n",
              "    .dataframe tbody tr th {\n",
              "        vertical-align: top;\n",
              "    }\n",
              "\n",
              "    .dataframe thead th {\n",
              "        text-align: right;\n",
              "    }\n",
              "</style>\n",
              "<table border=\"1\" class=\"dataframe\">\n",
              "  <thead>\n",
              "    <tr style=\"text-align: right;\">\n",
              "      <th>col_0</th>\n",
              "      <th>count_strawberry</th>\n",
              "    </tr>\n",
              "    <tr>\n",
              "      <th>Words</th>\n",
              "      <th></th>\n",
              "    </tr>\n",
              "  </thead>\n",
              "  <tbody>\n",
              "    <tr>\n",
              "      <th>a</th>\n",
              "      <td>1</td>\n",
              "    </tr>\n",
              "    <tr>\n",
              "      <th>about</th>\n",
              "      <td>4</td>\n",
              "    </tr>\n",
              "    <tr>\n",
              "      <th>all</th>\n",
              "      <td>4</td>\n",
              "    </tr>\n",
              "    <tr>\n",
              "      <th>always</th>\n",
              "      <td>1</td>\n",
              "    </tr>\n",
              "    <tr>\n",
              "      <th>and</th>\n",
              "      <td>4</td>\n",
              "    </tr>\n",
              "  </tbody>\n",
              "</table>\n",
              "</div>"
            ],
            "text/plain": [
              "col_0   count_strawberry\n",
              "Words                   \n",
              "a                      1\n",
              "about                  4\n",
              "all                    4\n",
              "always                 1\n",
              "and                    4"
            ]
          },
          "metadata": {
            "tags": []
          },
          "execution_count": 37
        }
      ]
    },
    {
      "cell_type": "markdown",
      "metadata": {
        "id": "K0z7cO3i_uQ_"
      },
      "source": [
        "13) Import the text of From Me to You and calculate the freqency of song lyrics using the code below."
      ]
    },
    {
      "cell_type": "code",
      "metadata": {
        "id": "zMhVZaYgp4Rn"
      },
      "source": [
        "From_ = 'youre like a melody that never goes away youre the sweetest thing an easy song to sing your like a work of art so priceless to me a timeless beauty from the movie screen that never ever seems to fade so baby put that glass down and turn the music up its like these words was written just for the two of us do you remember that day in september when we fell in love this ones for me and you so let the record play i love the way it makes your body move it sounds so good to me reminds me of you and when the record plays a melody love fills up the room it sounds so good to me this ones for me and you girl we came so far and beat out all the odds they never thought wed make it but i knew it from the start so lets celebrate cause we got it good a classic going down in history feels just like we won the lottery so baby put that glass down and turn music up its like these words was written just for the two of us do you remember that day in september when we fell in love this ones for me and you so let the record play i love the way it makes your body move it sound so good to me reminds me of you and when the record plays a melody love fills up the room it sounds so good to me this ones for me and you let it play let it play let it play this ones for my baby let it play let it play let it play this ones for me and you let it play let it play let it play just for me and you girl let it play let it play let it play yeah oh so baby put that glass down and turn music up its like these words was written just for the two of us do you remember that day in september baby when we fell when we fell in love this ones for me and you so let the record play i love the way it makes your body move it sounds so good to me reminds me of you and when record plays a melody love fills up the room it sounds so good to me this ones for me and you let it play let it play let it play hey were gonna sit back down yes we are with a glass of wine let it play let it play let it play for my baby for my girl this ones for you let it play let it play let it play for my baby for my girl this ones for you let it play let it play let it play for my baby for my girl this ones for you'"
      ],
      "execution_count": 46,
      "outputs": []
    },
    {
      "cell_type": "code",
      "metadata": {
        "id": "EAwU8JOQwWn0"
      },
      "source": [
        "From_df = pd.DataFrame({'Words':From_.split(' ')})"
      ],
      "execution_count": 47,
      "outputs": []
    },
    {
      "cell_type": "code",
      "metadata": {
        "id": "XtDS39Atwr-2"
      },
      "source": [
        "From_df = pd.crosstab(From_df['Words'],'from_count')"
      ],
      "execution_count": 48,
      "outputs": []
    },
    {
      "cell_type": "markdown",
      "metadata": {
        "id": "UNFG_UOT9y2Z"
      },
      "source": [
        "13) Import the text of Ticket to Ride using the code below."
      ]
    },
    {
      "cell_type": "code",
      "metadata": {
        "id": "Fh89MZnHAgcc"
      },
      "source": [
        "#@title\n",
        "Ticket_ = '''I think I'm gonna be sad\n",
        "I think it's today, yeah\n",
        "The girl that's driving me mad\n",
        "Is going away\n",
        "She's got a ticket to ride\n",
        "She's got a ticket to ride\n",
        "She's got a ticket to ride\n",
        "But she don't care\n",
        "She said that living with me\n",
        "Is bringing her down yeah\n",
        "For she would never be free\n",
        "When I was around\n",
        "She's got a ticket to ride\n",
        "She's got a ticket to ride\n",
        "She's got a ticket to ride\n",
        "But she don't care\n",
        "I don't know why she's ridin' so high\n",
        "She ought to think twice\n",
        "She ought to do right by me\n",
        "Before she gets to saying goodbye\n",
        "She ought to think twice,\n",
        "She ought to do right by me\n",
        "I think I'm gonna be sad\n",
        "I think it's today yeah\n",
        "The girl that's driving me mad\n",
        "Is going away, yeah\n",
        "She's got a ticket to ride\n",
        "She's got a ticket to ride\n",
        "She's got a ticket to ride\n",
        "But she don't care\n",
        "I don't know why she's ridin' so high\n",
        "She ought to think twice\n",
        "She ought to do right by me\n",
        "Before she gets to saying goodbye\n",
        "She ought to think twice\n",
        "She ought to do right by me\n",
        "She said that living with me\n",
        "Is bringing her down, yeah\n",
        "For she would never be free\n",
        "When I was around\n",
        "Ah, she's got a ticket to ride\n",
        "She's got a ticket to ride\n",
        "She's got a ticket to ride\n",
        "But she don't care\n",
        "My baby don't care, my baby don't care\n",
        "My baby don't care, my baby don't care\n",
        "My baby don't care, my baby don't care'''"
      ],
      "execution_count": 32,
      "outputs": []
    },
    {
      "cell_type": "code",
      "metadata": {
        "id": "xgAc_chnqtpP"
      },
      "source": [
        "Ticket_ = Ticket_.replace(',','').replace(\"'\", '').replace('\\n',' ')"
      ],
      "execution_count": 33,
      "outputs": []
    },
    {
      "cell_type": "code",
      "metadata": {
        "id": "fRIKa0ZMrBZk"
      },
      "source": [
        "Ticket_ = Ticket_.lower()"
      ],
      "execution_count": 10,
      "outputs": []
    },
    {
      "cell_type": "markdown",
      "metadata": {
        "id": "c8ieic21sH4j"
      },
      "source": [
        "14) Concatenate Ticket to Ride and Strawberry Fields and calculate the cosine similarity."
      ]
    },
    {
      "cell_type": "code",
      "metadata": {
        "id": "5GYIQ3jf88MI"
      },
      "source": [
        "### YOUR CODE HERE ###\n",
        "Ticket_df = pd.DataFrame({'Words': Ticket_.split(\" \")}) "
      ],
      "execution_count": 63,
      "outputs": []
    },
    {
      "cell_type": "code",
      "metadata": {
        "id": "YY6u19hQrmPO"
      },
      "source": [
        "Ticket_df = pd.crosstab(Ticket_df['Words'], 'ticket_count')"
      ],
      "execution_count": 64,
      "outputs": []
    },
    {
      "cell_type": "code",
      "metadata": {
        "id": "B6CltLgXsBrs",
        "outputId": "8255a2a4-d320-4f17-e5ff-2dee45709fb4",
        "colab": {
          "base_uri": "https://localhost:8080/",
          "height": 36
        }
      },
      "source": [
        "Strawberry_df.shape"
      ],
      "execution_count": 43,
      "outputs": [
        {
          "output_type": "execute_result",
          "data": {
            "text/plain": [
              "(69, 1)"
            ]
          },
          "metadata": {
            "tags": []
          },
          "execution_count": 43
        }
      ]
    },
    {
      "cell_type": "markdown",
      "metadata": {
        "id": "JCFn7l2XCefQ"
      },
      "source": [
        "15) Concatenate Ticket to Ride and From Me to You and calculate the cosine similarity."
      ]
    },
    {
      "cell_type": "code",
      "metadata": {
        "id": "lAoopCxKxPMK"
      },
      "source": [
        "pd.set_option('display.max_rows', 100)"
      ],
      "execution_count": 55,
      "outputs": []
    },
    {
      "cell_type": "code",
      "metadata": {
        "id": "uoj2UbIBCbJ5"
      },
      "source": [
        "ticket_from = pd.merge(From_df, Ticket_df, on='Words', how='outer')\n"
      ],
      "execution_count": 65,
      "outputs": []
    },
    {
      "cell_type": "code",
      "metadata": {
        "id": "5Wr55yjLzCxR"
      },
      "source": [
        "import numpy as np"
      ],
      "execution_count": 68,
      "outputs": []
    },
    {
      "cell_type": "code",
      "metadata": {
        "id": "mS1VT1DkxGrs"
      },
      "source": [
        "ticket_vector = np.nan_to_num(np.array(ticket_from['ticket_count']))"
      ],
      "execution_count": 69,
      "outputs": []
    },
    {
      "cell_type": "code",
      "metadata": {
        "id": "76CqfbBezhgz"
      },
      "source": [
        "from_vector = np.nan_to_num(np.array(ticket_from['from_count']))"
      ],
      "execution_count": 71,
      "outputs": []
    },
    {
      "cell_type": "code",
      "metadata": {
        "id": "tFj4gV3Ez06S"
      },
      "source": [
        "from numpy import dot\n",
        "from numpy.linalg import norm"
      ],
      "execution_count": 73,
      "outputs": []
    },
    {
      "cell_type": "code",
      "metadata": {
        "id": "k2E73XmP0MvR"
      },
      "source": [
        "cosine = dot(ticket_vector, from_vector) / (norm(ticket_vector) * norm(from_vector))"
      ],
      "execution_count": 74,
      "outputs": []
    },
    {
      "cell_type": "code",
      "metadata": {
        "id": "ZT3GBlyf0flR",
        "outputId": "6cd4cdfe-bd7e-4e1d-c58c-250a6da3f20c",
        "colab": {
          "base_uri": "https://localhost:8080/",
          "height": 36
        }
      },
      "source": [
        "cosine"
      ],
      "execution_count": 75,
      "outputs": [
        {
          "output_type": "execute_result",
          "data": {
            "text/plain": [
              "0.17149942927278827"
            ]
          },
          "metadata": {
            "tags": []
          },
          "execution_count": 75
        }
      ]
    },
    {
      "cell_type": "markdown",
      "metadata": {
        "id": "hJ-wIIvzuBaV"
      },
      "source": [
        "16) What is your conclusion about Ticket to Ride?  Does it appear most similar to Strawberry Fields (Lennon) or From Me to You (collaborative)?"
      ]
    },
    {
      "cell_type": "markdown",
      "metadata": {
        "id": "SoURb1HbDIhK"
      },
      "source": [
        "> It appears more similar to Strawberry fields"
      ]
    }
  ]
}