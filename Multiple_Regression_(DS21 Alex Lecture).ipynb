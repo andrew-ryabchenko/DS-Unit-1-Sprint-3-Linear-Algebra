{
  "nbformat": 4,
  "nbformat_minor": 0,
  "metadata": {
    "colab": {
      "name": "Multiple Regression (DS21).ipynb",
      "provenance": [],
      "collapsed_sections": [],
      "include_colab_link": true
    },
    "kernelspec": {
      "name": "python3",
      "display_name": "Python 3"
    }
  },
  "cells": [
    {
      "cell_type": "markdown",
      "metadata": {
        "id": "view-in-github",
        "colab_type": "text"
      },
      "source": [
        "<a href=\"https://colab.research.google.com/github/andrew-ryabchenko/DS-Unit-1-Sprint-3-Linear-Algebra/blob/master/Multiple_Regression_(DS21%20Alex%20Lecture).ipynb\" target=\"_parent\"><img src=\"https://colab.research.google.com/assets/colab-badge.svg\" alt=\"Open In Colab\"/></a>"
      ]
    },
    {
      "cell_type": "markdown",
      "metadata": {
        "id": "aPW_RZr25Il9"
      },
      "source": [
        "# Multiple Regression\n",
        "\n",
        "## Objectives\n",
        "\n",
        "- Model the relationship of **multiple predictor variables** to a single outcome.\n",
        "- Conduct a t-test to determine the **significance of individual variables** in the model.\n",
        "- Compare model fit using **R-squared**"
      ]
    },
    {
      "cell_type": "markdown",
      "metadata": {
        "id": "uhmdnOzupL1N"
      },
      "source": [
        "## Returning to our forensic science example:\n",
        "\n"
      ]
    },
    {
      "cell_type": "markdown",
      "metadata": {
        "id": "K1ExqvbepUkB"
      },
      "source": [
        "Anyone who is a fan of detective TV shows has watched a scene where human remains are discovered and some sort of expert is called in to determine when the person died. But is this science fiction or science fact? Is it possible to use evidence from skeletal remains to determine how long a body has been buried (a decent approximation of how long the person has been dead)? \n",
        "\n",
        "\n"
      ]
    },
    {
      "cell_type": "markdown",
      "metadata": {
        "id": "OypdMHJop6bQ"
      },
      "source": [
        "Researchers sampled long bone material from bodies exhumed from coffin burials in two cemeteries in England. In each case, the date of death and burial (and therefore interment time) was known. This data is given in the `Longbones.csv` dataset. "
      ]
    },
    {
      "cell_type": "markdown",
      "metadata": {
        "id": "lM5t4Yajp8mH"
      },
      "source": [
        "**We wish to determine if we can improve our model of the relationship between the nitrogen composition of the long bones of the skeleton and the length of time the body was interred.**\n",
        "\n",
        "Source: D.R. Jarvis (1997). \"Nitrogen Levels in Long Bones from Coffin Burials Interred for Periods of 26-90 Years,\" Forensic Science International, Vol85, pp199-208"
      ]
    },
    {
      "cell_type": "code",
      "metadata": {
        "id": "sJegaDmRn0a6",
        "outputId": "55f32b3f-6fad-42a9-9a97-2938255f3a62",
        "colab": {
          "base_uri": "https://localhost:8080/",
          "height": 206
        }
      },
      "source": [
        "#Import the Longbones.csv dataset from a URL and print the first few rows\n",
        "\n",
        "import pandas as pd\n",
        "import numpy as np\n",
        "\n",
        "\n",
        "data_url = 'https://raw.githubusercontent.com/LambdaSchool/data-science-practice-datasets/main/unit_1/Longbones/Longbones.csv'\n",
        "\n",
        "df = pd.read_csv(data_url, skipinitialspace=True, header=0)\n",
        "\n",
        "#Drop records with NAs and rename the dataset longbones\n",
        "\n",
        "longbones = df.dropna()\n",
        "\n",
        "longbones.head()"
      ],
      "execution_count": 1,
      "outputs": [
        {
          "output_type": "execute_result",
          "data": {
            "text/html": [
              "<div>\n",
              "<style scoped>\n",
              "    .dataframe tbody tr th:only-of-type {\n",
              "        vertical-align: middle;\n",
              "    }\n",
              "\n",
              "    .dataframe tbody tr th {\n",
              "        vertical-align: top;\n",
              "    }\n",
              "\n",
              "    .dataframe thead th {\n",
              "        text-align: right;\n",
              "    }\n",
              "</style>\n",
              "<table border=\"1\" class=\"dataframe\">\n",
              "  <thead>\n",
              "    <tr style=\"text-align: right;\">\n",
              "      <th></th>\n",
              "      <th>Site</th>\n",
              "      <th>Time</th>\n",
              "      <th>Depth</th>\n",
              "      <th>Lime</th>\n",
              "      <th>Age</th>\n",
              "      <th>Nitro</th>\n",
              "      <th>Oil</th>\n",
              "    </tr>\n",
              "  </thead>\n",
              "  <tbody>\n",
              "    <tr>\n",
              "      <th>3</th>\n",
              "      <td>1</td>\n",
              "      <td>71.8</td>\n",
              "      <td>7.6</td>\n",
              "      <td>1</td>\n",
              "      <td>65.0</td>\n",
              "      <td>3.88</td>\n",
              "      <td>0</td>\n",
              "    </tr>\n",
              "    <tr>\n",
              "      <th>4</th>\n",
              "      <td>1</td>\n",
              "      <td>70.6</td>\n",
              "      <td>7.5</td>\n",
              "      <td>1</td>\n",
              "      <td>42.0</td>\n",
              "      <td>3.53</td>\n",
              "      <td>0</td>\n",
              "    </tr>\n",
              "    <tr>\n",
              "      <th>5</th>\n",
              "      <td>1</td>\n",
              "      <td>68.0</td>\n",
              "      <td>7.0</td>\n",
              "      <td>1</td>\n",
              "      <td>28.0</td>\n",
              "      <td>3.93</td>\n",
              "      <td>0</td>\n",
              "    </tr>\n",
              "    <tr>\n",
              "      <th>6</th>\n",
              "      <td>1</td>\n",
              "      <td>71.6</td>\n",
              "      <td>8.0</td>\n",
              "      <td>1</td>\n",
              "      <td>35.0</td>\n",
              "      <td>3.88</td>\n",
              "      <td>0</td>\n",
              "    </tr>\n",
              "    <tr>\n",
              "      <th>7</th>\n",
              "      <td>1</td>\n",
              "      <td>70.2</td>\n",
              "      <td>6.0</td>\n",
              "      <td>1</td>\n",
              "      <td>44.0</td>\n",
              "      <td>3.64</td>\n",
              "      <td>0</td>\n",
              "    </tr>\n",
              "  </tbody>\n",
              "</table>\n",
              "</div>"
            ],
            "text/plain": [
              "   Site  Time  Depth  Lime   Age  Nitro  Oil\n",
              "3     1  71.8    7.6     1  65.0   3.88    0\n",
              "4     1  70.6    7.5     1  42.0   3.53    0\n",
              "5     1  68.0    7.0     1  28.0   3.93    0\n",
              "6     1  71.6    8.0     1  35.0   3.88    0\n",
              "7     1  70.2    6.0     1  44.0   3.64    0"
            ]
          },
          "metadata": {
            "tags": []
          },
          "execution_count": 1
        }
      ]
    },
    {
      "cell_type": "markdown",
      "metadata": {
        "id": "UygPGJ5Iq4zZ"
      },
      "source": [
        "At the point we left off yesterday, we'd tested for and found a statisticaly significant relationship between long bone nitrogen composition and interment time."
      ]
    },
    {
      "cell_type": "markdown",
      "metadata": {
        "id": "UIqgn0THlinM"
      },
      "source": [
        "The null hypothesis is that they are unrelated and the slope is = 0.  The alternative hypothesis is that they are related and the slope is not equal to 0.  In symbolic notation:\n",
        "\n",
        "Ho: $\\beta_1$ = 0\n",
        "\n",
        "Ha: $\\beta_1 \\neq$ 0"
      ]
    },
    {
      "cell_type": "code",
      "metadata": {
        "id": "sVZOz0j8xLb4",
        "outputId": "f439a7b4-c9f9-489a-fb81-6953b187303b",
        "colab": {
          "base_uri": "https://localhost:8080/",
          "height": 536
        }
      },
      "source": [
        "from statsmodels.formula.api import ols\n",
        "\n",
        "#Enter the model in the format Y ~ X\n",
        "\n",
        "model = ols('Time ~ Nitro', data=longbones).fit()\n",
        "\n",
        "#Print the model summary\n",
        "print(model.summary())"
      ],
      "execution_count": 2,
      "outputs": [
        {
          "output_type": "stream",
          "text": [
            "/usr/local/lib/python3.6/dist-packages/statsmodels/tools/_testing.py:19: FutureWarning: pandas.util.testing is deprecated. Use the functions in the public API at pandas.testing instead.\n",
            "  import pandas.util.testing as tm\n"
          ],
          "name": "stderr"
        },
        {
          "output_type": "stream",
          "text": [
            "                            OLS Regression Results                            \n",
            "==============================================================================\n",
            "Dep. Variable:                   Time   R-squared:                       0.450\n",
            "Model:                            OLS   Adj. R-squared:                  0.433\n",
            "Method:                 Least Squares   F-statistic:                     26.96\n",
            "Date:                Wed, 14 Oct 2020   Prob (F-statistic):           1.05e-05\n",
            "Time:                        16:08:42   Log-Likelihood:                -141.08\n",
            "No. Observations:                  35   AIC:                             286.2\n",
            "Df Residuals:                      33   BIC:                             289.3\n",
            "Df Model:                           1                                         \n",
            "Covariance Type:            nonrobust                                         \n",
            "==============================================================================\n",
            "                 coef    std err          t      P>|t|      [0.025      0.975]\n",
            "------------------------------------------------------------------------------\n",
            "Intercept    316.8053     50.679      6.251      0.000     213.698     419.912\n",
            "Nitro        -69.2427     13.336     -5.192      0.000     -96.375     -42.110\n",
            "==============================================================================\n",
            "Omnibus:                        5.682   Durbin-Watson:                   1.325\n",
            "Prob(Omnibus):                  0.058   Jarque-Bera (JB):                2.336\n",
            "Skew:                           0.294   Prob(JB):                        0.311\n",
            "Kurtosis:                       1.880   Cond. No.                         86.8\n",
            "==============================================================================\n",
            "\n",
            "Warnings:\n",
            "[1] Standard Errors assume that the covariance matrix of the errors is correctly specified.\n"
          ],
          "name": "stdout"
        }
      ]
    },
    {
      "cell_type": "markdown",
      "metadata": {
        "id": "4eJsXuRLxKrz"
      },
      "source": [
        "Today let's take a look at some of the information about model fit displayed in the upper right-hand side of the top box."
      ]
    },
    {
      "cell_type": "markdown",
      "metadata": {
        "id": "n2zaqqYRc4QT"
      },
      "source": [
        "## R-squared ($R^2$)"
      ]
    },
    {
      "cell_type": "markdown",
      "metadata": {
        "id": "y21TW4n67mNq"
      },
      "source": [
        "**R-squared** (also abbreviated $R^2$) is equal to the square of the correlation coefficient.  It's a number between 0 and 1 that is often expressed as a percent.\n",
        "\n"
      ]
    },
    {
      "cell_type": "markdown",
      "metadata": {
        "id": "8GuTIO3Nvkyb"
      },
      "source": [
        "The interpretation of R-squared is \"the percent of the variability in the y variable that is explained by differences in the x variable(s)\".  \n"
      ]
    },
    {
      "cell_type": "markdown",
      "metadata": {
        "id": "ANlLU6MSvnN2"
      },
      "source": [
        "In this case, $R^2$ = 0.45 = 45%.  The interpretation is that 45% of the variability in interment length is explained by differences in nitrogen composition of the long bones.\n"
      ]
    },
    {
      "cell_type": "markdown",
      "metadata": {
        "id": "nh3IRa62vslY"
      },
      "source": [
        "\n",
        "That means that 55% of the variability in interment time remains unexplained by the model.  "
      ]
    },
    {
      "cell_type": "markdown",
      "metadata": {
        "id": "kzf5OLiCwJxZ"
      },
      "source": [
        "This remaining variability can be seen in the scatterplot where we have skeletons with the same nitrogen composition but different interment times."
      ]
    },
    {
      "cell_type": "code",
      "metadata": {
        "id": "rdcccUuCv9Te",
        "outputId": "ebaee2fa-3116-43f9-b8aa-d10a27bce8e5",
        "colab": {
          "base_uri": "https://localhost:8080/",
          "height": 382
        }
      },
      "source": [
        "# Use Seaborn to create the scatterplot and overlay the regression line\n",
        "import seaborn as sns\n",
        "\n",
        "sns.set_theme()\n",
        "\n",
        "ax = sns.lmplot(x='Nitro', y='Time', data=longbones)"
      ],
      "execution_count": 3,
      "outputs": [
        {
          "output_type": "display_data",
          "data": {
            "image/png": "[encoded data removed]",
            "text/plain": [
              "<Figure size 360x360 with 1 Axes>"
            ]
          },
          "metadata": {
            "tags": []
          }
        }
      ]
    },
    {
      "cell_type": "markdown",
      "metadata": {
        "id": "EUyMkH8Wf_wp"
      },
      "source": [
        "## Multiple Regression"
      ]
    },
    {
      "cell_type": "markdown",
      "metadata": {
        "id": "9VLKDiESxJSR"
      },
      "source": [
        "How do we address this unexplained variability?  \n",
        "\n",
        "Well, one obvious place to start is to see if some of the other variables can help us understand why skeletons with the same nitrogen composition have different interment times."
      ]
    },
    {
      "cell_type": "markdown",
      "metadata": {
        "id": "EmEI47CbC-ld"
      },
      "source": [
        "We can do this by adding additional terms to our model and testing to see if they are statistically significant.\n"
      ]
    },
    {
      "cell_type": "markdown",
      "metadata": {
        "id": "J4Zvv3fmDI2W"
      },
      "source": [
        "Simple linear regression model: $\\hat{y} = \\beta_0 + \\beta_1x$"
      ]
    },
    {
      "cell_type": "markdown",
      "metadata": {
        "id": "vXtOtQ-fDTaa"
      },
      "source": [
        "Multiple regression model: $\\hat{y} = \\beta_0 + \\beta_1x_1 + \\beta_2x_2 + \\beta_3x_3 +...$"
      ]
    },
    {
      "cell_type": "markdown",
      "metadata": {
        "id": "3Tf30mj2EeYd"
      },
      "source": [
        "As with simple linear regression, we use t-tests to determine if model features are statistically significantly associated with the target. "
      ]
    },
    {
      "cell_type": "markdown",
      "metadata": {
        "id": "jXvMYjhBoWWy"
      },
      "source": [
        "\n",
        "Let's start by looking at the `Lime` column, which indicates if the body was buried with quicklime or not.  \n"
      ]
    },
    {
      "cell_type": "markdown",
      "metadata": {
        "id": "GI170a6-o6hx"
      },
      "source": [
        "We can ask the question:\n",
        "\n",
        "> **\"Does burial with quicklime change the relationship between long bone nitrogen composition and interment time?\"**"
      ]
    },
    {
      "cell_type": "code",
      "metadata": {
        "id": "LtYcWjOGAXo3",
        "outputId": "61d8c6de-6483-42a8-f3e9-22c8d0f23e04",
        "colab": {
          "base_uri": "https://localhost:8080/",
          "height": 376
        }
      },
      "source": [
        "import matplotlib.pyplot as plt\n",
        "plt.style.use('seaborn')\n",
        "fig, ax = plt.subplots() \n",
        "\n",
        "#Color the points differently depending on if the body was buried with quicklime or not.\n",
        "plt.scatter(x = longbones['Nitro'], y = longbones['Time'], c = longbones['Lime'])\n",
        "\n",
        "ax.set_title('Long Bone Nitrogen Composition and Interment Time')\n",
        "ax.set_xlabel('Long Bone Nitrogen Composition in g/100g of Bone')\n",
        "ax.set_ylabel('Interment Time in Years')\n",
        "\n",
        "plt.show()"
      ],
      "execution_count": 12,
      "outputs": [
        {
          "output_type": "display_data",
          "data": {
            "image/png": "[encoded data removed]",
            "text/plain": [
              "<Figure size 576x396 with 1 Axes>"
            ]
          },
          "metadata": {
            "tags": []
          }
        }
      ]
    },
    {
      "cell_type": "markdown",
      "metadata": {
        "id": "Zhj_5D2bpJIR"
      },
      "source": [
        "There does seem to be a different pattern in the relationship between nitrogen composition and interment time depending on if the body was buried with quicklime, and we can test this claim formally using a hypothesis test."
      ]
    },
    {
      "cell_type": "markdown",
      "metadata": {
        "id": "KqRQiC4yCZwL"
      },
      "source": [
        "Our multiple regression model is: $\\hat{y} = \\beta_0 + \\beta_1$Nitro + $\\beta_2$Lime"
      ]
    },
    {
      "cell_type": "markdown",
      "metadata": {
        "id": "N_1Es6J1pla_"
      },
      "source": [
        "Now we can test the null hypothesis that burial with quicklime is not associated with interment time against the alternative hypothesis is that burial with quicklime is associated with interment time.  In symbolic notation:\n",
        "\n",
        "$H_0$: $\\beta_2$ = 0\n",
        "\n",
        "$H_a$: $\\beta_2 \\neq$ 0"
      ]
    },
    {
      "cell_type": "code",
      "metadata": {
        "id": "uY6TQZu2GE-R",
        "outputId": "8b3563eb-74fa-4e9e-8eaf-9087adfa9fdf",
        "colab": {
          "base_uri": "https://localhost:8080/",
          "height": 517
        }
      },
      "source": [
        "from statsmodels.formula.api import ols\n",
        "\n",
        "#Enter the model in the format Y ~ X\n",
        "\n",
        "model = ols('Time ~ Nitro + Lime', data=longbones).fit()\n",
        "\n",
        "#Print the model summary\n",
        "print(model.summary())"
      ],
      "execution_count": 13,
      "outputs": [
        {
          "output_type": "stream",
          "text": [
            "                            OLS Regression Results                            \n",
            "==============================================================================\n",
            "Dep. Variable:                   Time   R-squared:                       0.776\n",
            "Model:                            OLS   Adj. R-squared:                  0.762\n",
            "Method:                 Least Squares   F-statistic:                     55.56\n",
            "Date:                Wed, 14 Oct 2020   Prob (F-statistic):           3.90e-11\n",
            "Time:                        16:29:06   Log-Likelihood:                -125.31\n",
            "No. Observations:                  35   AIC:                             256.6\n",
            "Df Residuals:                      32   BIC:                             261.3\n",
            "Df Model:                           2                                         \n",
            "Covariance Type:            nonrobust                                         \n",
            "==============================================================================\n",
            "                 coef    std err          t      P>|t|      [0.025      0.975]\n",
            "------------------------------------------------------------------------------\n",
            "Intercept    180.4695     38.386      4.701      0.000     102.280     258.659\n",
            "Nitro        -35.6258      9.934     -3.586      0.001     -55.860     -15.392\n",
            "Lime          25.4505      3.722      6.839      0.000      17.870      33.031\n",
            "==============================================================================\n",
            "Omnibus:                        4.221   Durbin-Watson:                   1.601\n",
            "Prob(Omnibus):                  0.121   Jarque-Bera (JB):                2.325\n",
            "Skew:                           0.385   Prob(JB):                        0.313\n",
            "Kurtosis:                       2.000   Cond. No.                         102.\n",
            "==============================================================================\n",
            "\n",
            "Warnings:\n",
            "[1] Standard Errors assume that the covariance matrix of the errors is correctly specified.\n"
          ],
          "name": "stdout"
        }
      ]
    },
    {
      "cell_type": "markdown",
      "metadata": {
        "id": "55FQEaZup0xi"
      },
      "source": [
        "Now we see \"Lime\" appear in the model under Nitro alongside the model coefficient, standard error, t-test, p-value, and CI."
      ]
    },
    {
      "cell_type": "markdown",
      "metadata": {
        "id": "Q39BIzI-IAqM"
      },
      "source": [
        "Both Nitro and Lime are statistically significant predictors of interment time so it makes sense to include both of them in our statistical model.\n",
        "\n",
        "We can write the model using the coefficients shown in the table as:\n",
        "\n",
        "$\\hat{y}$ = 180.47 - 35.63 x Nitro + 25.45 x Lime\n",
        "\n"
      ]
    },
    {
      "cell_type": "markdown",
      "metadata": {
        "id": "3gr8OoX8qpqY"
      },
      "source": [
        "When we have a model with more than one feature, we talk about each one being significantly associated with the target *after taking into account the effects of the other variables*.\n",
        "\n",
        "After taking into account long bone nitrogen composition, burial with quicklime is statistically significantly associated with interment time.\n",
        "\n",
        "And vice versa.\n",
        "\n",
        "After taking into account burial with quicklime, long bone nitrogen composition is statistically associated with interment time."
      ]
    },
    {
      "cell_type": "markdown",
      "metadata": {
        "id": "eucccNn4rDMD"
      },
      "source": [
        "Because we now have two significant predictors in our model instead of just one, we'd expect the percent of variability in y to be higher for the model with both nitrogen composition and quicklime compared to the model with just nitrogen composition."
      ]
    },
    {
      "cell_type": "markdown",
      "metadata": {
        "id": "hYfLzVVwrzH2"
      },
      "source": [
        "The output above gives us multiple measures comparing model predictive ability and fit, but we are going to continue to focus on $R^2$ (AIC, BIC and log-likelihood are all less easily interpretable measures of model fit).\n",
        "\n",
        "\n",
        "\n"
      ]
    },
    {
      "cell_type": "markdown",
      "metadata": {
        "id": "_iHNtE1-LM7r"
      },
      "source": [
        "However, regular old $R^2$ has one big problem. It will always go up when you enter more factors in the model, even if they aren't statistically significant.\n",
        "\n",
        "Adjusted $R^2$ penalizes you just a little bit for adding in new model terms, so it will only increase if the new term really adds to the predictive ability of the model."
      ]
    },
    {
      "cell_type": "markdown",
      "metadata": {
        "id": "DBF7_XX0NqGA"
      },
      "source": [
        "In the model with just nitrogen composition, adjusted $R^2$ = 0.433\n",
        "\n",
        "In the model with both nitrogen composition and burial with quicklime, adjusted $R^2$ = 0.762"
      ]
    },
    {
      "cell_type": "markdown",
      "metadata": {
        "id": "_YFlFydYsHuk"
      },
      "source": [
        "That's a huge increase in predictive ability!\n"
      ]
    },
    {
      "cell_type": "markdown",
      "metadata": {
        "id": "xc1PYc1ysan9"
      },
      "source": [
        "Now we can say:\n",
        "\n",
        "> **About 76 percent of the variability in interment time can be explained by differences in long bone nitrogen composition and use of the quicklime at burial.**"
      ]
    },
    {
      "cell_type": "code",
      "metadata": {
        "id": "Z74wWVAoYBVZ",
        "outputId": "e212bb22-7cb6-483d-df44-93b067777056",
        "colab": {
          "base_uri": "https://localhost:8080/",
          "height": 379
        }
      },
      "source": [
        "ax = sns.lmplot(x='Nitro', y='Time', data=longbones, hue='Lime',\n",
        "                markers=['x', 'o'])"
      ],
      "execution_count": 16,
      "outputs": [
        {
          "output_type": "display_data",
          "data": {
            "image/png": "[encoded data removed]",
            "text/plain": [
              "<Figure size 401.625x360 with 1 Axes>"
            ]
          },
          "metadata": {
            "tags": []
          }
        }
      ]
    },
    {
      "cell_type": "markdown",
      "metadata": {
        "id": "5fGqW2ojhrLj"
      },
      "source": [
        "## Adding More Predictors"
      ]
    },
    {
      "cell_type": "markdown",
      "metadata": {
        "id": "82l60bgp0vR5"
      },
      "source": [
        "Can we do even better?????"
      ]
    },
    {
      "cell_type": "markdown",
      "metadata": {
        "id": "2nEnFXNDtg5D"
      },
      "source": [
        "Let's add burial depth to the model."
      ]
    },
    {
      "cell_type": "markdown",
      "metadata": {
        "id": "II_IqVUIuO5E"
      },
      "source": [
        "Our multiple regression model is: $\\hat{y} = \\beta_0 + \\beta_1$Nitro + $\\beta_2$Lime + $\\beta_3$Depth"
      ]
    },
    {
      "cell_type": "markdown",
      "metadata": {
        "id": "ZTnN18NN1H-c"
      },
      "source": [
        "This time we want to test the null hypothesis that - after accounting for differences in nitrogen composition and burial with quicklime - burial depth is not associated with interment time against the alternative hypothesis is that burial depth is associated with interment time.  In symbolic notation:\n",
        "\n",
        "Ho: $\\beta_3$ = 0\n",
        "\n",
        "Ha: $\\beta_3 \\neq$ 0"
      ]
    },
    {
      "cell_type": "markdown",
      "metadata": {
        "id": "J5oY6UUso27k"
      },
      "source": [
        "### Visualizing"
      ]
    },
    {
      "cell_type": "code",
      "metadata": {
        "id": "5IGuTa7ho5Jx",
        "outputId": "07071f99-79e7-4fa4-c505-c5d344d23091",
        "colab": {
          "base_uri": "https://localhost:8080/",
          "height": 361
        }
      },
      "source": [
        "ax_depth = sns.regplot(x='Depth',y='Time', data=longbones, ci=None)"
      ],
      "execution_count": 17,
      "outputs": [
        {
          "output_type": "display_data",
          "data": {
            "image/png": "[encoded data removed]",
            "text/plain": [
              "<Figure size 576x396 with 1 Axes>"
            ]
          },
          "metadata": {
            "tags": []
          }
        }
      ]
    },
    {
      "cell_type": "markdown",
      "metadata": {
        "id": "_9jn0LNar4mU"
      },
      "source": [
        "### Running Our Test"
      ]
    },
    {
      "cell_type": "code",
      "metadata": {
        "id": "yPsXBJsAv-Rq",
        "outputId": "053a5edf-370c-4ba2-f845-3187fe4671a8",
        "colab": {
          "base_uri": "https://localhost:8080/",
          "height": 536
        }
      },
      "source": [
        "from statsmodels.formula.api import ols\n",
        "\n",
        "model = ols('Time~ Nitro + Lime + Depth', data=longbones).fit()\n",
        "\n",
        "print(model.summary())"
      ],
      "execution_count": 20,
      "outputs": [
        {
          "output_type": "stream",
          "text": [
            "                            OLS Regression Results                            \n",
            "==============================================================================\n",
            "Dep. Variable:                   Time   R-squared:                       0.776\n",
            "Model:                            OLS   Adj. R-squared:                  0.755\n",
            "Method:                 Least Squares   F-statistic:                     35.88\n",
            "Date:                Wed, 14 Oct 2020   Prob (F-statistic):           3.34e-10\n",
            "Time:                        16:56:30   Log-Likelihood:                -125.31\n",
            "No. Observations:                  35   AIC:                             258.6\n",
            "Df Residuals:                      31   BIC:                             264.8\n",
            "Df Model:                           3                                         \n",
            "Covariance Type:            nonrobust                                         \n",
            "==============================================================================\n",
            "                 coef    std err          t      P>|t|      [0.025      0.975]\n",
            "------------------------------------------------------------------------------\n",
            "Intercept    180.4700     39.003      4.627      0.000     100.924     260.016\n",
            "Nitro        -35.6230     10.407     -3.423      0.002     -56.848     -14.398\n",
            "Lime          25.4483      4.289      5.933      0.000      16.700      34.196\n",
            "Depth         -0.0014      1.340     -0.001      0.999      -2.735       2.732\n",
            "==============================================================================\n",
            "Omnibus:                        4.224   Durbin-Watson:                   1.601\n",
            "Prob(Omnibus):                  0.121   Jarque-Bera (JB):                2.325\n",
            "Skew:                           0.385   Prob(JB):                        0.313\n",
            "Kurtosis:                       2.000   Cond. No.                         211.\n",
            "==============================================================================\n",
            "\n",
            "Warnings:\n",
            "[1] Standard Errors assume that the covariance matrix of the errors is correctly specified.\n"
          ],
          "name": "stdout"
        }
      ]
    },
    {
      "cell_type": "markdown",
      "metadata": {
        "id": "G4oNjo6t2BAs"
      },
      "source": [
        "In this case, we see that we **fail to reject the null hypothesis** and we conclude that - after accounting for nitrogen composition and burial with quicklime - burial depth is not associated with interment time."
      ]
    },
    {
      "cell_type": "markdown",
      "metadata": {
        "id": "vSMTSIetP38W"
      },
      "source": [
        "Looking at the adjusted $R^2$, we see the predictive ability of this model falls a tiny bit to 0.75."
      ]
    },
    {
      "cell_type": "markdown",
      "metadata": {
        "id": "LJ-vZoArQFex"
      },
      "source": [
        "We will choose not to include burial depth in our model of interment time.  Our current best model remains:\n",
        "\n",
        "$\\hat{y}$ = 180.47 - 35.63 x Nitro + 25.45 x Lime\n",
        "\n"
      ]
    },
    {
      "cell_type": "markdown",
      "metadata": {
        "id": "6noscqAcisAJ"
      },
      "source": [
        "### Your Turn: Let's Try Another!"
      ]
    },
    {
      "cell_type": "markdown",
      "metadata": {
        "id": "ALHIkP4PwVWt"
      },
      "source": [
        "We have one more variable to consider.  Let's add age at the time of death to the previous model and see if that adds to the predictive ability."
      ]
    },
    {
      "cell_type": "markdown",
      "metadata": {
        "id": "m331yLSp4cgn"
      },
      "source": [
        "Our multiple regression model is: $\\hat{y} = \\beta_0 + \\beta_1$Nitro + $\\beta_2$Lime + $\\beta_3$Age"
      ]
    },
    {
      "cell_type": "markdown",
      "metadata": {
        "id": "SSHWw7Rw35Lr"
      },
      "source": [
        "This time we want to test the null hypothesis that - after accounting for differences in nitrogen composition and burial with quicklime - the age at the time of death is not associated with interment time against the alternative hypothesis is that age at the time of death is associated with interment time.  In symbolic notation:\n",
        "\n",
        "Ho: $\\beta_3$ = 0\n",
        "\n",
        "Ha: $\\beta_3 \\neq$ 0"
      ]
    },
    {
      "cell_type": "code",
      "metadata": {
        "id": "2-9cswPmRV2D",
        "outputId": "d523749f-c84e-48a8-c2d9-5b3c0a3c1c34",
        "colab": {
          "base_uri": "https://localhost:8080/",
          "height": 536
        }
      },
      "source": [
        "from statsmodels.formula.api import ols\n",
        "\n",
        "model = ols('Time~ Nitro + Lime + Age', data=longbones).fit()\n",
        "\n",
        "print(model.summary())"
      ],
      "execution_count": 21,
      "outputs": [
        {
          "output_type": "stream",
          "text": [
            "                            OLS Regression Results                            \n",
            "==============================================================================\n",
            "Dep. Variable:                   Time   R-squared:                       0.777\n",
            "Model:                            OLS   Adj. R-squared:                  0.755\n",
            "Method:                 Least Squares   F-statistic:                     35.91\n",
            "Date:                Wed, 14 Oct 2020   Prob (F-statistic):           3.30e-10\n",
            "Time:                        16:59:24   Log-Likelihood:                -125.30\n",
            "No. Observations:                  35   AIC:                             258.6\n",
            "Df Residuals:                      31   BIC:                             264.8\n",
            "Df Model:                           3                                         \n",
            "Covariance Type:            nonrobust                                         \n",
            "==============================================================================\n",
            "                 coef    std err          t      P>|t|      [0.025      0.975]\n",
            "------------------------------------------------------------------------------\n",
            "Intercept    178.8066     40.704      4.393      0.000      95.790     261.823\n",
            "Nitro        -35.3974     10.216     -3.465      0.002     -56.234     -14.561\n",
            "Lime          25.3125      3.902      6.486      0.000      17.353      33.272\n",
            "Age            0.0246      0.173      0.142      0.888      -0.328       0.377\n",
            "==============================================================================\n",
            "Omnibus:                        4.028   Durbin-Watson:                   1.600\n",
            "Prob(Omnibus):                  0.133   Jarque-Bera (JB):                2.333\n",
            "Skew:                           0.401   Prob(JB):                        0.312\n",
            "Kurtosis:                       2.023   Cond. No.                         967.\n",
            "==============================================================================\n",
            "\n",
            "Warnings:\n",
            "[1] Standard Errors assume that the covariance matrix of the errors is correctly specified.\n"
          ],
          "name": "stdout"
        }
      ]
    },
    {
      "cell_type": "markdown",
      "metadata": {
        "id": "wYBevsdf4R2H"
      },
      "source": [
        "Again we **fail to reject the null hypothesis** and we conclude that - after accounting for nitrogen composition and burial with quicklime - the age at the time of death is not associated with interment time.  The adjusted $R^2$ also decreases as when we added burial depth."
      ]
    },
    {
      "cell_type": "markdown",
      "metadata": {
        "id": "ML2uKT1D7Qxe"
      },
      "source": [
        "Based on the data we have, the best model to predict interment time of a skeleton is:\n",
        "\n",
        "$\\hat{y}$ = 180.47 - 35.63 x Nitro + 25.45 x Lime"
      ]
    },
    {
      "cell_type": "code",
      "metadata": {
        "id": "g_K7dT0KrU7E"
      },
      "source": [
        " f = lambda x, y: 180.47 - 35.63*x + 25.45*y"
      ],
      "execution_count": 25,
      "outputs": []
    },
    {
      "cell_type": "markdown",
      "metadata": {
        "id": "sPtivBsHj0v0"
      },
      "source": [
        "## Making Our Final Prediction"
      ]
    },
    {
      "cell_type": "markdown",
      "metadata": {
        "id": "5eijXEWKSaK3"
      },
      "source": [
        "Let's play CSI one more time and use it to make predictions about how long a body has been interred for different values of long bone nitrogen composition and quicklime application."
      ]
    },
    {
      "cell_type": "markdown",
      "metadata": {
        "id": "wqv11_e7S7Ib"
      },
      "source": [
        "Case: A body found was **not buried with quicklime** and has **3.88g of nitrogen per 100g of bone** remaining in the long bones of the skeleton. Estimate the years that the body has been buried for."
      ]
    },
    {
      "cell_type": "code",
      "metadata": {
        "id": "Az7aXj-N6sW6"
      },
      "source": [
        "#Make sure we're working with the correct model\n",
        "model = ols('Time ~ Nitro + Lime', data=longbones).fit()\n",
        "\n",
        "\n",
        "#Specify the values of x we'd like to predict\n",
        "x1 = 3.88\n",
        "x2 = 0\n",
        "\n",
        "#Extract the slope and intercept values from the model paramters\n",
        "intercept = model.params[0]\n",
        "slope1 = model.params[1]\n",
        "slope2 = model.params[2]\n",
        "\n",
        "#Use the model coefficients and plug the new value of x into the regression equation\n",
        "predicted = intercept + slope1*x1 + slope2*x2\n",
        "\n",
        "print(predicted)\n"
      ],
      "execution_count": null,
      "outputs": []
    },
    {
      "cell_type": "markdown",
      "metadata": {
        "id": "B1O2nuW_3ixr"
      },
      "source": [
        "> **We estimate that this body has been buried for about 42.24 years.**"
      ]
    },
    {
      "cell_type": "markdown",
      "metadata": {
        "id": "-rhf7zmX9g3E"
      },
      "source": [
        "Case: A body that was **buried with quicklime** and has **3.59 g of nitrogen per 100g of bone** remaining in the long bones of the skeleton."
      ]
    },
    {
      "cell_type": "code",
      "metadata": {
        "id": "uswEbjkLUPq9",
        "outputId": "5fe21b4e-21b7-4ab1-f363-5e1ad3c1f4f9",
        "colab": {
          "base_uri": "https://localhost:8080/",
          "height": 35
        }
      },
      "source": [
        "f(3.59,1)"
      ],
      "execution_count": 27,
      "outputs": [
        {
          "output_type": "execute_result",
          "data": {
            "text/plain": [
              "78.00829999999999"
            ]
          },
          "metadata": {
            "tags": []
          },
          "execution_count": 27
        }
      ]
    },
    {
      "cell_type": "markdown",
      "metadata": {
        "id": "iRVl1ZyC92kj"
      },
      "source": [
        "> **[Estimate here]**"
      ]
    },
    {
      "cell_type": "markdown",
      "metadata": {
        "id": "RnDi8855VIPB"
      },
      "source": [
        "\n",
        "\n",
        "---\n",
        "\n"
      ]
    },
    {
      "cell_type": "markdown",
      "metadata": {
        "id": "9wOmYg06VLxt"
      },
      "source": [
        "What happens if I have a lot - like thousands - of potential features?"
      ]
    },
    {
      "cell_type": "markdown",
      "metadata": {
        "id": "hm8aqRPkVVzF"
      },
      "source": [
        "There are many, many machine learning algorithms that have been built to evaluate the most important features of a dataset, and you will learn several of the most common ones as you move throughout the units of the data science curriculum.\n",
        "\n",
        "However, at a very basic level, they all work the same way we did today by evaluating how much information a particular feature contributes to the model."
      ]
    }
  ]
}